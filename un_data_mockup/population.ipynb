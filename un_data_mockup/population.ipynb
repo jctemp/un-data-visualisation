{
 "cells": [
  {
   "cell_type": "code",
   "execution_count": null,
   "metadata": {},
   "outputs": [],
   "source": [
    "import os\n",
    "import pandas as pd\n",
    "import matplotlib.pyplot as plt"
   ]
  },
  {
   "cell_type": "code",
   "execution_count": null,
   "metadata": {},
   "outputs": [],
   "source": [
    "import requests\n",
    "\n",
    "files = [\n",
    "    \"SYB65_1_202209_Population, Surface Area and Density.csv\",\n",
    "    \"SYB65_246_202209_Population Growth, Fertility and Mortality Indicators.csv\",\n",
    "    \"SYB65_327_202209_International Migrants and Refugees.csv\"\n",
    "]\n",
    "\n",
    "urls = [\n",
    "    \"https://data.un.org/_Docs/SYB/CSV/SYB65_1_202209_Population,%20Surface%20Area%20and%20Density.csv\",\n",
    "    \"https://data.un.org/_Docs/SYB/CSV/SYB65_246_202209_Population%20Growth,%20Fertility%20and%20Mortality%20Indicators.csv\",\n",
    "    \"https://data.un.org/_Docs/SYB/CSV/SYB65_327_202209_International%20Migrants%20and%20Refugees.csv\",\n",
    "]\n",
    "\n",
    "for url, file in zip(urls, files):\n",
    "    r = requests.get(url, allow_redirects=True)\n",
    "    open(file, \"wb\").write(r.content)"
   ]
  },
  {
   "cell_type": "code",
   "execution_count": null,
   "metadata": {},
   "outputs": [],
   "source": [
    "if not os.path.exists(\"population\"):\n",
    "    os.makedirs(\"population\")"
   ]
  },
  {
   "cell_type": "code",
   "execution_count": null,
   "metadata": {},
   "outputs": [],
   "source": [
    "tables = {}\n",
    "\n",
    "for file in files:\n",
    "    df = pd.read_csv(file, header=None, encoding='latin-1')\n",
    "    groups = df.groupby(df.columns[1])\n",
    "    for name, group in groups:\n",
    "        country_df = pd.DataFrame(group)\n",
    "        country_df[4] = country_df[4].str.replace(\",\", \"\")\n",
    "        country_df = country_df.drop([0, 1, 5, 6], axis=1)\n",
    "        country_df = country_df.pivot_table(4, [3], 2)\n",
    "        country_df = country_df.reset_index()\n",
    "        country_df = country_df.rename(columns={3: \"attribute\"})\n",
    "        if name in tables:\n",
    "            tables[name].append(country_df)\n",
    "        else:\n",
    "            tables[name] = [country_df]"
   ]
  },
  {
   "cell_type": "code",
   "execution_count": null,
   "metadata": {},
   "outputs": [],
   "source": [
    "tables_copy = tables\n",
    "for name in tables_copy:\n",
    "    country_df = tables_copy[name].pop()\n",
    "    while len(tables_copy[name]) > 0:\n",
    "        country_df = pd.merge(country_df, tables_copy[name].pop(), how=\"outer\")\n",
    "    country_df.to_csv(f\"./population/{name}.csv\", index=False)"
   ]
  },
  {
   "cell_type": "code",
   "execution_count": null,
   "metadata": {},
   "outputs": [],
   "source": [
    "india = pd.read_csv(\"./population/India.csv\")\n",
    "india"
   ]
  },
  {
   "cell_type": "code",
   "execution_count": null,
   "metadata": {},
   "outputs": [],
   "source": [
    "for index, row in india.iterrows():\n",
    "    plt.figure()\n",
    "\n",
    "    label = row[0]\n",
    "    values = row[1:]\n",
    "    \n",
    "    plt.bar(values.index, values)\n",
    "    plt.title(label)\n",
    "    \n",
    "    plt.show()"
   ]
  }
 ],
 "metadata": {
  "kernelspec": {
   "display_name": "Python 3",
   "language": "python",
   "name": "python3"
  },
  "language_info": {
   "codemirror_mode": {
    "name": "ipython",
    "version": 3
   },
   "file_extension": ".py",
   "mimetype": "text/x-python",
   "name": "python",
   "nbconvert_exporter": "python",
   "pygments_lexer": "ipython3",
   "version": "3.11.3"
  },
  "orig_nbformat": 4
 },
 "nbformat": 4,
 "nbformat_minor": 2
}
